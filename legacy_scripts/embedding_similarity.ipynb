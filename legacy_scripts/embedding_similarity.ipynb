{
 "cells": [
  {
   "cell_type": "code",
   "execution_count": 1,
   "metadata": {
    "collapsed": true
   },
   "outputs": [],
   "source": [
    "import os\n",
    "\n",
    "import numpy as np\n",
    "from sklearn.metrics import matthews_corrcoef\n",
    "from sklearn.neighbors import KNeighborsClassifier\n",
    "from torch.utils.data import DataLoader, Subset\n",
    "\n",
    "from datasets.embeddings_localization_dataset import EmbeddingsLocalizationDataset\n",
    "from torchvision.transforms import transforms\n",
    "\n",
    "from datasets.transforms import SolubilityToInt\n",
    "from utils.general import numpy_collate_for_reduced\n",
    "\n",
    "os.chdir('C:/Users/HannesStark\\\\projects\\\\protein-localization')\n",
    "#train_embeddings = 'data/embeddings/train_T5_reduced.h5'\n",
    "#train_remapping = 'data/fasta_files/train.fasta'\n",
    "#\n",
    "#val_embeddings = 'data/embeddings/test_T5_reduced.h5'\n",
    "#val_remapping = 'data/fasta_files/test_as_per_deeploc.fasta'\n",
    "\n",
    "#train_embeddings = 'data/embeddings/train_T5_reduced.h5'\n",
    "#train_remapping = 'data/fasta_files/train.fasta'\n",
    "#val_embeddings = 'data/embeddings/new_hard_set_t5_reduced.h5'\n",
    "#val_remapping = 'data/embeddings/new_hard_set_t5_remapping.fasta'\n",
    "\n",
    "#train_embeddings = 'data/embeddings/train_reduced.h5'\n",
    "#train_remapping = 'data/embeddings/train_remapped.fasta'\n",
    "#val_embeddings = 'data/embeddings/new_hard_set_BERT_reduced.h5'\n",
    "#val_remapping = 'data/embeddings/new_hard_set_BERT_remapping.fasta'\n",
    "\n",
    "#train_embeddings = 'data/embeddings/train_reduced.h5'\n",
    "#train_remapping = 'data/embeddings/train_remapped.fasta'\n",
    "#\n",
    "#val_embeddings = 'data/embeddings/test_reduced.h5'\n",
    "#val_remapping = 'data/embeddings/test_remapped.fasta'\n",
    "#\n",
    "#\n",
    "#train_embeddings = 'data/seqvec_reduced/train_reduced.h5'\n",
    "#train_remapping = 'data/seqvec_reduced/train_remapped.fasta'\n",
    "#\n",
    "#val_embeddings = 'data/seqvec_reduced/test_reduced.h5'\n",
    "#val_remapping = 'data/seqvec_reduced/test_remapped.fasta'\n",
    "\n",
    "# For Uniref 50:\n",
    "#train_embeddings= 'data/uniref_embeddings_pooled/train.h5'\n",
    "#train_remapping= 'data/uniref_embeddings_pooled/train.fasta'\n",
    "#\n",
    "#val_embeddings= 'data/uniref_embeddings_pooled/new_hard_set.h5'\n",
    "#val_remapping= 'data/uniref_embeddings_pooled/new_hard_set.fasta'\n",
    "#key_format= 'fasta_descriptor'\n",
    "\n",
    "#unirep\n",
    "train_embeddings = 'data/bepler/train/reduced_embeddings_file.h5'\n",
    "train_remapping = 'data/bepler/train/remapped_sequences_file.fasta'\n",
    "val_embeddings= 'data/bepler/deeploc_test////reduced_embeddings_file.h5'\n",
    "val_remapping= 'data/bepler/deeploc_test/////remapped_sequences_file.fasta'\n",
    "key_format= 'hash'\n",
    "\n",
    "#val_embeddings = 'data/uniref_embeddings_pooled/test_as_per_deeploc.h5'\n",
    "#val_remapping = 'data/uniref_embeddings_pooled/test_as_per_deeploc.fasta'\n",
    "#key_format= 'fasta_descriptor'\n",
    "\n",
    "descriptions_with_hash = False"
   ]
  },
  {
   "cell_type": "code",
   "execution_count": 2,
   "outputs": [
    {
     "data": {
      "text/plain": "KNeighborsClassifier(n_neighbors=1, p=1)"
     },
     "execution_count": 2,
     "metadata": {},
     "output_type": "execute_result"
    }
   ],
   "source": [
    "\n",
    "transform = transforms.Compose([SolubilityToInt()])\n",
    "train_set = EmbeddingsLocalizationDataset(train_embeddings, train_remapping,\n",
    "                                             unknown_solubility=True,\n",
    "                                             key_format=key_format,\n",
    "                                             embedding_mode='lm',\n",
    "                                             transform=transform)\n",
    "val_set = EmbeddingsLocalizationDataset(val_embeddings, val_remapping,\n",
    "                                             unknown_solubility=True,\n",
    "                                             key_format=key_format,\n",
    "                                             embedding_mode='lm',\n",
    "                                             transform=transform)\n",
    "\n",
    "train_loader = DataLoader(train_set, batch_size=len(train_set), collate_fn=numpy_collate_for_reduced)\n",
    "val_loader = DataLoader(val_set, batch_size=len(val_set), collate_fn=numpy_collate_for_reduced)\n",
    "\n",
    "train_data = next(iter(train_loader))  # tuple of embedding, localization, solubility, metadata\n",
    "val_data = next(iter(val_loader))  # tuple of embedding, localization, solubility, metadata\n",
    "classifier = KNeighborsClassifier(n_neighbors=1, p=1)\n",
    "#classifier = KNeighborsClassifier(n_neighbors=1, metric='cosine')\n",
    "classifier.fit(train_data[0], train_data[1])\n"
   ],
   "metadata": {
    "collapsed": false,
    "pycharm": {
     "name": "#%%\n"
    }
   }
  },
  {
   "cell_type": "code",
   "execution_count": 3,
   "outputs": [],
   "source": [
    "predictions = classifier.predict(val_data[0])\n",
    "distances, _ = classifier.kneighbors(val_data[0])\n",
    "#distances = np.array(distances).sum(-1).squeeze()\n",
    "\n",
    "\n"
   ],
   "metadata": {
    "collapsed": false,
    "pycharm": {
     "name": "#%%\n"
    }
   }
  },
  {
   "cell_type": "code",
   "execution_count": 4,
   "outputs": [],
   "source": [
    "import matplotlib\n",
    "\n",
    "import seaborn as sns\n",
    "sns.set_theme()\n",
    "import pandas as pd\n",
    "import matplotlib.pyplot as plt\n",
    "#matplotlib.rcParams['figure.dpi'] = 300\n",
    "matplotlib.rcParams['savefig.dpi'] = 300"
   ],
   "metadata": {
    "collapsed": false,
    "pycharm": {
     "name": "#%%\n"
    }
   }
  },
  {
   "cell_type": "code",
   "execution_count": 5,
   "outputs": [
    {
     "name": "stdout",
     "output_type": "stream",
     "text": [
      "431\n",
      "25.986078886310906\n",
      "[6 6 6 3 1 1 2 9 1 6 1 6 0 3 0 5 6 6 1 1 6 1 6 6 1 1 1 0 6 2 5 2 6 6 1 3 6\n",
      " 3 6 3 5 3 1 1 6 1 6 6 6 6 3 1 5 5 1 1 6 6 1 5 1 1 9 6 0 1 0 6 6 6 6 6 1 1\n",
      " 0 1 4 1 3 1 4 1 6 6 8 6 4 1 6 1 5 6 1 6 6 6 6 1 5 1 0 4 6 6 6 2 6 5 1 5 6\n",
      " 6 1 6 5 5 3 1 6 1 5 0 5 6 9 6 6 6 6 2 4 1 5 6 6 6 6 6 6 5 2 5 1 6 6 4 8 6\n",
      " 6 0 0 6 0 1 6 6 6 1 0 9 5 6 0 1 8 6 5 6 1 6 6 5 1 6 0 5 6 1 7 6 5 1 5 6 4\n",
      " 0 6 1 6 1 9 5 0 1 1 1 1 0 0 6 6 8 0 1 1 8 1 6 6 4 3 6 6 1 5 1 9 8 6 1 1 1\n",
      " 2 5 5 4 5 0 0 1 6 6 6 6 6 5 8 0 1 1 6 2 6 0 6 4 6 4 1 1 1 6 2 6 0 9 6 6 2\n",
      " 6 8 2 1 9 5 8 6 6 6 9 1 1 3 6 0 5 6 0 5 9 6 3 6 9 6 4 2 6 3 5 0 1 8 5 5 7\n",
      " 1 0 6 5 0 0 1 9 6 5 6 6 3 6 6 6 9 5 6 5 6 6 5 5 2 8 9 1 2 6 0 9 6 6 2 9 6\n",
      " 6 6 5 6 0 5 9 6 6 9 3 1 8 6 4 9 6 9 2 9 6 9 5 5 1 3 5 7 2 1 6 9 6 5 6 3 4\n",
      " 8 2 6 9 9 2 2 6 5 5 3 5 5 6 5 0 6 9 6 9 6 9 2 6 5 6 9 3 5 9 9 5 5 9 9 6 5\n",
      " 5 9 5 5 6 5 9 2 6 9 9 6 9 1 6 5 0 6 9 0 6 9 9 6]\n",
      "[array(8), array(3), array(1), array(0), array(3), array(1), array(0), array(9), array(0), array(1), array(1), array(0), array(4), array(1), array(2), array(0), array(1), array(0), array(4), array(4), array(6), array(9), array(1), array(6), array(1), array(1), array(1), array(3), array(6), array(1), array(1), array(7), array(0), array(1), array(0), array(1), array(6), array(1), array(6), array(0), array(1), array(6), array(1), array(1), array(6), array(0), array(9), array(6), array(9), array(1), array(0), array(0), array(9), array(6), array(1), array(0), array(6), array(1), array(1), array(3), array(6), array(9), array(0), array(1), array(1), array(6), array(6), array(4), array(1), array(1), array(1), array(0), array(1), array(0), array(9), array(6), array(1), array(0), array(2), array(6), array(0), array(6), array(6), array(6), array(1), array(6), array(3), array(0), array(6), array(6), array(9), array(4), array(3), array(1), array(0), array(1), array(6), array(1), array(0), array(7), array(0), array(2), array(9), array(3), array(1), array(0), array(9), array(2), array(1), array(2), array(0), array(1), array(1), array(1), array(2), array(1), array(9), array(1), array(1), array(1), array(0), array(0), array(0), array(0), array(9), array(1), array(6), array(5), array(1), array(6), array(1), array(2), array(9), array(6), array(6), array(1), array(1), array(9), array(6), array(7), array(0), array(9), array(0), array(4), array(9), array(4), array(9), array(0), array(1), array(0), array(6), array(6), array(0), array(6), array(6), array(6), array(9), array(1), array(4), array(4), array(2), array(6), array(2), array(0), array(0), array(1), array(4), array(6), array(6), array(2), array(6), array(5), array(0), array(6), array(0), array(1), array(6), array(6), array(6), array(1), array(6), array(9), array(1), array(6), array(0), array(0), array(1), array(1), array(1), array(2), array(6), array(6), array(8), array(1), array(5), array(0), array(1), array(2), array(0), array(0), array(6), array(6), array(0), array(1), array(6), array(5), array(6), array(2), array(1), array(5), array(1), array(2), array(6), array(9), array(0), array(0), array(1), array(9), array(6), array(2), array(1), array(2), array(3), array(9), array(9), array(2), array(2), array(0), array(0), array(6), array(1), array(1), array(9), array(0), array(6), array(1), array(9), array(6), array(6), array(0), array(6), array(0), array(5), array(0), array(1), array(9), array(1), array(2), array(5), array(9), array(8), array(1), array(6), array(9), array(0), array(1), array(1), array(0), array(2), array(3), array(8), array(8), array(5), array(9), array(1), array(6), array(6), array(0), array(9), array(9), array(9), array(0), array(6), array(6), array(9), array(9), array(1), array(9), array(1), array(4), array(6), array(2), array(1), array(9), array(1), array(0), array(0), array(6), array(1), array(0), array(1), array(6), array(3), array(1), array(0), array(1), array(6), array(0), array(6), array(9), array(0), array(0), array(2), array(9), array(0), array(6), array(1), array(1), array(2), array(6), array(6), array(1), array(8), array(9), array(9), array(1), array(0), array(0), array(9), array(3), array(0), array(9), array(1), array(9), array(0), array(9), array(0), array(4), array(9), array(2), array(9), array(8), array(8), array(6), array(1), array(6), array(3), array(0), array(9), array(1), array(9), array(1), array(9), array(0), array(0), array(1), array(1), array(0), array(9), array(1), array(6), array(2), array(9), array(0), array(9), array(9), array(9), array(6), array(9), array(8), array(5), array(1), array(6), array(9), array(9), array(1), array(9), array(1), array(0), array(0), array(1), array(0), array(1), array(9), array(9), array(9), array(0), array(1), array(9), array(9), array(9), array(9), array(6), array(6), array(9), array(9), array(1), array(9), array(8), array(9), array(9), array(0), array(0), array(0), array(9), array(1), array(9), array(0), array(9), array(9), array(9), array(6), array(9), array(9), array(9), array(6), array(9), array(0), array(2), array(0), array(6), array(9), array(2), array(9), array(9), array(6), array(6), array(9), array(9), array(9), array(9), array(6), array(8), array(9), array(1), array(9), array(5), array(6), array(9), array(0), array(2)]\n"
     ]
    }
   ],
   "source": [
    "# Get Accuracy and MCC\n",
    "print(len(predictions))\n",
    "print(100 * np.equal(predictions, val_data[1]).sum() / len(predictions))\n",
    "matthews_corrcoef(val_data[1], predictions)"
   ],
   "metadata": {
    "collapsed": false,
    "pycharm": {
     "name": "#%%\n"
    }
   }
  },
  {
   "cell_type": "code",
   "execution_count": 13,
   "outputs": [
    {
     "name": "stdout",
     "output_type": "stream",
     "text": [
      "[array(8), array(3), array(1), array(0), array(3), array(1), array(0), array(9), array(0), array(1), array(1), array(0), array(4), array(1), array(2), array(0), array(1), array(0), array(4), array(4), array(6), array(9), array(1), array(6), array(1), array(1), array(1), array(3), array(6), array(1), array(1), array(7), array(0), array(1), array(0), array(1), array(6), array(1), array(6), array(0), array(1), array(6), array(1), array(1), array(6), array(0), array(9), array(6), array(9), array(1), array(0), array(0), array(9), array(6), array(1), array(0), array(6), array(1), array(1), array(3), array(6), array(9), array(0), array(1), array(1), array(6), array(6), array(4), array(1), array(1), array(1), array(0), array(1), array(0), array(9), array(6), array(1), array(0), array(2), array(6), array(0), array(6), array(6), array(6), array(1), array(6), array(3), array(0), array(6), array(6), array(9), array(4), array(3), array(1), array(0), array(1), array(6), array(1), array(0), array(7)]\n"
     ]
    },
    {
     "name": "stderr",
     "output_type": "stream",
     "text": [
      "C:\\Users\\HannesStark\\anaconda3\\lib\\site-packages\\sklearn\\metrics\\_classification.py:870: RuntimeWarning: invalid value encountered in double_scalars\n",
      "  mcc = cov_ytyp / np.sqrt(cov_ytyt * cov_ypyp)\n"
     ]
    },
    {
     "data": {
      "text/plain": "0.0"
     },
     "execution_count": 13,
     "metadata": {},
     "output_type": "execute_result"
    }
   ],
   "source": [
    "# majority classifier:\n",
    "majority_prediction = np.ones_like(predictions, dtype=int)*np.argmax(np.bincount(val_data[1]))\n",
    "matthews_corrcoef(val_data[1], majority_prediction)"
   ],
   "metadata": {
    "collapsed": false,
    "pycharm": {
     "name": "#%%\n"
    }
   }
  },
  {
   "cell_type": "code",
   "execution_count": 6,
   "outputs": [
    {
     "ename": "IndexError",
     "evalue": "boolean index did not match indexed array along dimension 0; dimension is 2768 but corresponding boolean dimension is 431",
     "output_type": "error",
     "traceback": [
      "\u001B[1;31m---------------------------------------------------------------------------\u001B[0m",
      "\u001B[1;31mIndexError\u001B[0m                                Traceback (most recent call last)",
      "\u001B[1;32m<ipython-input-6-8e54db3ee546>\u001B[0m in \u001B[0;36m<module>\u001B[1;34m\u001B[0m\n\u001B[0;32m     12\u001B[0m     \u001B[0mindices\u001B[0m \u001B[1;33m=\u001B[0m \u001B[0mresults\u001B[0m\u001B[1;33m[\u001B[0m\u001B[1;33m:\u001B[0m\u001B[1;33m,\u001B[0m \u001B[1;36m2\u001B[0m\u001B[1;33m]\u001B[0m \u001B[1;33m<=\u001B[0m \u001B[0mcutoff\u001B[0m\u001B[1;33m\u001B[0m\u001B[1;33m\u001B[0m\u001B[0m\n\u001B[0;32m     13\u001B[0m     \u001B[0mbelow_cutoff\u001B[0m \u001B[1;33m=\u001B[0m \u001B[0mresults\u001B[0m\u001B[1;33m[\u001B[0m\u001B[0mindices\u001B[0m\u001B[1;33m]\u001B[0m\u001B[1;33m\u001B[0m\u001B[1;33m\u001B[0m\u001B[0m\n\u001B[1;32m---> 14\u001B[1;33m     \u001B[0mchosen_denovo_predictions\u001B[0m \u001B[1;33m=\u001B[0m \u001B[0mdenovo_predictions\u001B[0m\u001B[1;33m[\u001B[0m\u001B[0mnp\u001B[0m\u001B[1;33m.\u001B[0m\u001B[0minvert\u001B[0m\u001B[1;33m(\u001B[0m\u001B[0mindices\u001B[0m\u001B[1;33m)\u001B[0m\u001B[1;33m]\u001B[0m\u001B[1;33m\u001B[0m\u001B[1;33m\u001B[0m\u001B[0m\n\u001B[0m\u001B[0;32m     15\u001B[0m     \u001B[0mknn_accuracies\u001B[0m\u001B[1;33m.\u001B[0m\u001B[0mappend\u001B[0m\u001B[1;33m(\u001B[0m\u001B[1;36m100\u001B[0m \u001B[1;33m*\u001B[0m \u001B[0mnp\u001B[0m\u001B[1;33m.\u001B[0m\u001B[0mequal\u001B[0m\u001B[1;33m(\u001B[0m\u001B[0mbelow_cutoff\u001B[0m\u001B[1;33m[\u001B[0m\u001B[1;33m:\u001B[0m\u001B[1;33m,\u001B[0m \u001B[1;36m0\u001B[0m\u001B[1;33m]\u001B[0m\u001B[1;33m,\u001B[0m \u001B[0mbelow_cutoff\u001B[0m\u001B[1;33m[\u001B[0m\u001B[1;33m:\u001B[0m\u001B[1;33m,\u001B[0m \u001B[1;36m1\u001B[0m\u001B[1;33m]\u001B[0m\u001B[1;33m)\u001B[0m\u001B[1;33m.\u001B[0m\u001B[0msum\u001B[0m\u001B[1;33m(\u001B[0m\u001B[1;33m)\u001B[0m \u001B[1;33m/\u001B[0m \u001B[0mlen\u001B[0m\u001B[1;33m(\u001B[0m\u001B[0mbelow_cutoff\u001B[0m\u001B[1;33m)\u001B[0m\u001B[1;33m)\u001B[0m\u001B[1;33m\u001B[0m\u001B[1;33m\u001B[0m\u001B[0m\n\u001B[0;32m     16\u001B[0m     \u001B[0mdenovo_accuracies\u001B[0m\u001B[1;33m.\u001B[0m\u001B[0mappend\u001B[0m\u001B[1;33m(\u001B[0m\u001B[1;36m100\u001B[0m \u001B[1;33m*\u001B[0m \u001B[0mnp\u001B[0m\u001B[1;33m.\u001B[0m\u001B[0mequal\u001B[0m\u001B[1;33m(\u001B[0m\u001B[0mchosen_denovo_predictions\u001B[0m\u001B[1;33m[\u001B[0m\u001B[1;33m:\u001B[0m\u001B[1;33m,\u001B[0m \u001B[1;36m0\u001B[0m\u001B[1;33m]\u001B[0m\u001B[1;33m,\u001B[0m \u001B[0mchosen_denovo_predictions\u001B[0m\u001B[1;33m[\u001B[0m\u001B[1;33m:\u001B[0m\u001B[1;33m,\u001B[0m \u001B[1;36m1\u001B[0m\u001B[1;33m]\u001B[0m\u001B[1;33m)\u001B[0m\u001B[1;33m.\u001B[0m\u001B[0msum\u001B[0m\u001B[1;33m(\u001B[0m\u001B[1;33m)\u001B[0m \u001B[1;33m/\u001B[0m \u001B[0mlen\u001B[0m\u001B[1;33m(\u001B[0m\u001B[0mchosen_denovo_predictions\u001B[0m\u001B[1;33m)\u001B[0m\u001B[1;33m)\u001B[0m\u001B[1;33m\u001B[0m\u001B[1;33m\u001B[0m\u001B[0m\n",
      "\u001B[1;31mIndexError\u001B[0m: boolean index did not match indexed array along dimension 0; dimension is 2768 but corresponding boolean dimension is 431"
     ]
    }
   ],
   "source": [
    "cutoffs = np.linspace(distances.min(),distances.max(),1000)\n",
    "results = np.array([predictions,val_data[1], distances.squeeze()]).T\n",
    "\n",
    "\n",
    "best_accuracy = 0\n",
    "denovo_accuracies = []\n",
    "knn_accuracies = []\n",
    "accuracies = []\n",
    "mccs = []\n",
    "percentage_denovo = []\n",
    "for cutoff in cutoffs:\n",
    "    indices = results[:, 2] <= cutoff\n",
    "    below_cutoff = results[indices]\n",
    "    chosen_denovo_predictions = denovo_predictions[np.invert(indices)]\n",
    "    knn_accuracies.append(100 * np.equal(below_cutoff[:, 0], below_cutoff[:, 1]).sum() / len(below_cutoff))\n",
    "    denovo_accuracies.append(100 * np.equal(chosen_denovo_predictions[:, 0], chosen_denovo_predictions[:, 1]).sum() / len(chosen_denovo_predictions))\n",
    "    combined_results = np.concatenate([chosen_denovo_predictions[:, :2], below_cutoff[:, :2]])\n",
    "    accuracy = 100*np.equal(combined_results[:, 0], combined_results[:, 1]).sum() / len(combined_results)\n",
    "    accuracies.append(accuracy)\n",
    "    mccs.append(matthews_corrcoef(combined_results[:, 1], combined_results[:, 0]))\n",
    "    percentage_denovo.append(100*len(chosen_denovo_predictions)/len(results))\n",
    "    if accuracy >= best_accuracy:\n",
    "        best_accuracy = accuracy\n",
    "\n",
    "print('only Light attention accuracy: ',100 * np.equal(denovo_predictions[:, 0], denovo_predictions[:, 1]).sum() / len(denovo_predictions))\n",
    "print('best accuracy: ', best_accuracy)\n",
    "best_accuracy_index = np.array(accuracies).argmax()\n",
    "print('knn accuracy: ', knn_accuracies[best_accuracy_index])\n",
    "print('denovo accuracy: ', denovo_accuracies[best_accuracy_index])\n",
    "print('percentage of denovo predictions: ', percentage_denovo[best_accuracy_index])\n",
    "print('best_distance_cutoff: ', cutoffs[best_accuracy_index])\n",
    "print('knn only accuracy: ', knn_accuracies[-1])\n"
   ],
   "metadata": {
    "collapsed": false,
    "pycharm": {
     "name": "#%%\n"
    }
   }
  },
  {
   "cell_type": "code",
   "execution_count": null,
   "outputs": [],
   "source": [
    "plt.rcParams['figure.figsize'] = [10, 8]\n",
    "\n",
    "df = pd.DataFrame(np.array([cutoffs, knn_accuracies]).T,\n",
    "                  columns=[\"distance\",'knn_accuracies'])\n",
    "df = df.melt('distance', var_name='cols',  value_name='percent')\n",
    "sns.lineplot(x=\"distance\", y=\"percent\", hue='cols', data=df)\n",
    "plt.legend(labels=['1-NN accuracy'])\n",
    "plt.xlim(0,25)\n",
    "plt.ylim(0)\n",
    "plt.ylabel('Accuracy')\n",
    "plt.xlabel('Euclidean distance')\n",
    "plt.savefig('figure1.png')\n",
    "plt.show()\n",
    "plt.clf()\n",
    "\n",
    "df = pd.DataFrame(np.array([cutoffs,percentage_denovo, denovo_accuracies,]).T,\n",
    "                  columns=[\"distance\",'percentage_denovo','denovo_accuracies',])\n",
    "df = df.melt('distance', var_name='cols',  value_name='percent')\n",
    "sns.lineplot(x=\"distance\", y=\"percent\", hue='cols', data=df)\n",
    "plt.legend(labels=['percentage LA','LA accuracy'])\n",
    "plt.xlim(0,25)\n",
    "plt.ylim(0)\n",
    "plt.ylabel('Accuracy')\n",
    "plt.xlabel('Euclidean distance')\n",
    "plt.savefig('figure2.png')\n",
    "plt.show()\n",
    "plt.clf()\n",
    "\n",
    "df = pd.DataFrame(np.array([cutoffs, knn_accuracies, denovo_accuracies, accuracies, percentage_denovo]).T,\n",
    "                  columns=[\"distance\", 'knn_accuracies', 'denovo_accuracies',\"accuracies\", 'percentage_denovo'])\n",
    "df = df.melt('distance', var_name='cols',  value_name='percent')\n",
    "sns.lineplot(x=\"distance\", y=\"percent\", hue='cols', data=df)\n",
    "plt.legend(labels=['1NN accuracy', 'LA accuracy','combined accuracy', 'percentage LA'])\n",
    "plt.xlim(0,25)\n",
    "plt.ylim(0)\n",
    "plt.xlabel('Euclidean distance')\n",
    "plt.savefig('figure3.png')\n",
    "plt.show()\n",
    "plt.clf()\n",
    "\n",
    "df = pd.DataFrame(np.array([cutoffs,accuracies, knn_accuracies, denovo_accuracies]).T,\n",
    "                  columns=[\"distance\", \"accuracies\", 'knn_accuracies', 'denovo_accuracies'])\n",
    "df = df.melt('distance', var_name='cols',  value_name='percent')\n",
    "sns.lineplot(x=\"distance\", y=\"percent\", hue='cols', data=df)\n",
    "plt.legend(labels=['combined accuracy', '1NN accuracy', 'LA accuracy', 'percentage LA'])\n",
    "plt.savefig('figure4.png')\n",
    "\n",
    "\n"
   ],
   "metadata": {
    "collapsed": false,
    "pycharm": {
     "name": "#%%\n"
    }
   }
  }
 ],
 "metadata": {
  "kernelspec": {
   "display_name": "Python 3",
   "language": "python",
   "name": "python3"
  },
  "language_info": {
   "codemirror_mode": {
    "name": "ipython",
    "version": 2
   },
   "file_extension": ".py",
   "mimetype": "text/x-python",
   "name": "python",
   "nbconvert_exporter": "python",
   "pygments_lexer": "ipython2",
   "version": "2.7.6"
  }
 },
 "nbformat": 4,
 "nbformat_minor": 0
}